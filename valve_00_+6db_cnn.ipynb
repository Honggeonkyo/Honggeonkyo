{
  "nbformat": 4,
  "nbformat_minor": 0,
  "metadata": {
    "colab": {
      "name": "valve_00_+6db_cnn.ipynb",
      "provenance": [],
      "collapsed_sections": [],
      "machine_shape": "hm"
    },
    "kernelspec": {
      "name": "python3",
      "display_name": "Python 3"
    }
  },
  "cells": [
    {
      "cell_type": "code",
      "metadata": {
        "id": "H2fFTZtw1gXQ",
        "colab_type": "code",
        "outputId": "1e373eed-58ad-4bd4-9b72-2ae22a404621",
        "colab": {
          "base_uri": "https://localhost:8080/",
          "height": 127
        }
      },
      "source": [
        "from google.colab import auth\n",
        "auth.authenticate_user()\n",
        "\n",
        "\n",
        "from google.colab import drive\n",
        "drive.mount('/content/gdrive')"
      ],
      "execution_count": 0,
      "outputs": [
        {
          "output_type": "stream",
          "text": [
            "Go to this URL in a browser: https://accounts.google.com/o/oauth2/auth?client_id=947318989803-6bn6qk8qdgf4n4g3pfee6491hc0brc4i.apps.googleusercontent.com&redirect_uri=urn%3aietf%3awg%3aoauth%3a2.0%3aoob&response_type=code&scope=email%20https%3a%2f%2fwww.googleapis.com%2fauth%2fdocs.test%20https%3a%2f%2fwww.googleapis.com%2fauth%2fdrive%20https%3a%2f%2fwww.googleapis.com%2fauth%2fdrive.photos.readonly%20https%3a%2f%2fwww.googleapis.com%2fauth%2fpeopleapi.readonly\n",
            "\n",
            "Enter your authorization code:\n",
            "··········\n",
            "Mounted at /content/gdrive\n"
          ],
          "name": "stdout"
        }
      ]
    },
    {
      "cell_type": "code",
      "metadata": {
        "id": "M-cHR9LP1lzm",
        "colab_type": "code",
        "outputId": "31b32cd4-77ac-4a80-da36-2c19bc15e04d",
        "colab": {
          "base_uri": "https://localhost:8080/",
          "height": 82
        }
      },
      "source": [
        "import numpy as np\n",
        "import tensorflow as tf\n",
        "from keras.models import Sequential\n",
        "from keras.layers import Dense\n",
        "from keras.layers import Conv2D,MaxPooling2D\n",
        "from keras.layers import Flatten,Dropout\n",
        "from keras.callbacks import EarlyStopping\n",
        "from keras.callbacks import ModelCheckpoint\n",
        "from keras.optimizers import Adam"
      ],
      "execution_count": 0,
      "outputs": [
        {
          "output_type": "display_data",
          "data": {
            "text/html": [
              "<p style=\"color: red;\">\n",
              "The default version of TensorFlow in Colab will soon switch to TensorFlow 2.x.<br>\n",
              "We recommend you <a href=\"https://www.tensorflow.org/guide/migrate\" target=\"_blank\">upgrade</a> now \n",
              "or ensure your notebook will continue to use TensorFlow 1.x via the <code>%tensorflow_version 1.x</code> magic:\n",
              "<a href=\"https://colab.research.google.com/notebooks/tensorflow_version.ipynb\" target=\"_blank\">more info</a>.</p>\n"
            ],
            "text/plain": [
              "<IPython.core.display.HTML object>"
            ]
          },
          "metadata": {
            "tags": []
          }
        },
        {
          "output_type": "stream",
          "text": [
            "Using TensorFlow backend.\n"
          ],
          "name": "stderr"
        }
      ]
    },
    {
      "cell_type": "code",
      "metadata": {
        "id": "rj6EXV-Y1npm",
        "colab_type": "code",
        "colab": {}
      },
      "source": [
        "from keras.preprocessing.image import ImageDataGenerator"
      ],
      "execution_count": 0,
      "outputs": []
    },
    {
      "cell_type": "code",
      "metadata": {
        "id": "D5ExoHPh12Kh",
        "colab_type": "code",
        "colab": {}
      },
      "source": [
        "np.random.seed(3)"
      ],
      "execution_count": 0,
      "outputs": []
    },
    {
      "cell_type": "code",
      "metadata": {
        "id": "_ons_UkO15Tv",
        "colab_type": "code",
        "outputId": "fc7ac442-8df3-4f05-b465-a8439e6c4d0f",
        "colab": {
          "base_uri": "https://localhost:8080/",
          "height": 53
        }
      },
      "source": [
        "np.random.seed(3)\n",
        "train_datagen = ImageDataGenerator(rescale = 1./255)\n",
        "test_datagen = ImageDataGenerator(rescale = 1./255)\n",
        "train_generator = train_datagen.flow_from_directory('/content/gdrive/My Drive/Colab Notebooks/valve_id_00_+6db/trainingSet',\n",
        "                                                 target_size = (560, 420),\n",
        "                                                 batch_size = 5,                                                \n",
        "                                                 class_mode = 'categorical')\n",
        "test_generator = test_datagen.flow_from_directory('/content/gdrive/My Drive/Colab Notebooks/valve_id_00_+6db/testSet',\n",
        "                                            target_size = (560, 420),\n",
        "                                            batch_size = 5,                                            \n",
        "                                            class_mode = 'categorical')"
      ],
      "execution_count": 0,
      "outputs": [
        {
          "output_type": "stream",
          "text": [
            "Found 120 images belonging to 2 classes.\n",
            "Found 80 images belonging to 2 classes.\n"
          ],
          "name": "stdout"
        }
      ]
    },
    {
      "cell_type": "code",
      "metadata": {
        "id": "q3_KZPlh16LK",
        "colab_type": "code",
        "outputId": "d687e57b-c13a-45fc-89f2-0fb213c1ffdc",
        "colab": {
          "base_uri": "https://localhost:8080/",
          "height": 521
        }
      },
      "source": [
        "model = Sequential()\n",
        "model.add(Conv2D(28, kernel_size=(2, 2),\n",
        "                 activation='relu',input_shape=(560,420,3)))\n",
        "model.add(MaxPooling2D(pool_size=(2, 2)))\n",
        "model.add(Dropout(0.5))\n",
        "model.add(Conv2D(10, kernel_size=(1,1),\n",
        "                 activation='relu'))\n",
        "model.add(MaxPooling2D(pool_size=(2, 2)))\n",
        "model.add(Conv2D(1, kernel_size=(1,1),\n",
        "                 activation='relu'))\n",
        "model.add(MaxPooling2D(pool_size=(2, 2)))\n",
        "model.add(Flatten())\n",
        "model.add(Dropout(0.5))\n",
        "model.add(Dense(2,activation='softmax' ))\n",
        "model.summary()\n",
        "model.compile(loss='categorical_crossentropy',optimizer=Adam(lr=2e-5),metrics=['accuracy'])"
      ],
      "execution_count": 0,
      "outputs": [
        {
          "output_type": "stream",
          "text": [
            "Model: \"sequential_8\"\n",
            "_________________________________________________________________\n",
            "Layer (type)                 Output Shape              Param #   \n",
            "=================================================================\n",
            "conv2d_22 (Conv2D)           (None, 559, 419, 28)      364       \n",
            "_________________________________________________________________\n",
            "max_pooling2d_22 (MaxPooling (None, 279, 209, 28)      0         \n",
            "_________________________________________________________________\n",
            "dropout_12 (Dropout)         (None, 279, 209, 28)      0         \n",
            "_________________________________________________________________\n",
            "conv2d_23 (Conv2D)           (None, 279, 209, 10)      290       \n",
            "_________________________________________________________________\n",
            "max_pooling2d_23 (MaxPooling (None, 139, 104, 10)      0         \n",
            "_________________________________________________________________\n",
            "conv2d_24 (Conv2D)           (None, 139, 104, 1)       11        \n",
            "_________________________________________________________________\n",
            "max_pooling2d_24 (MaxPooling (None, 69, 52, 1)         0         \n",
            "_________________________________________________________________\n",
            "flatten_8 (Flatten)          (None, 3588)              0         \n",
            "_________________________________________________________________\n",
            "dropout_13 (Dropout)         (None, 3588)              0         \n",
            "_________________________________________________________________\n",
            "dense_8 (Dense)              (None, 2)                 7178      \n",
            "=================================================================\n",
            "Total params: 7,843\n",
            "Trainable params: 7,843\n",
            "Non-trainable params: 0\n",
            "_________________________________________________________________\n"
          ],
          "name": "stdout"
        }
      ]
    },
    {
      "cell_type": "code",
      "metadata": {
        "id": "uXoUn2vL1-PE",
        "colab_type": "code",
        "outputId": "fc408c4a-1a26-45e1-e234-09c172ea50d6",
        "colab": {
          "base_uri": "https://localhost:8080/",
          "height": 755
        }
      },
      "source": [
        "early_stopping_callback = EarlyStopping(monitor='val_loss',mode='min', patience=5)\n",
        "checkpoint_callback = ModelCheckpoint('best_model_cnn.h5', monitor='val_loss', verbose=1, save_best_only=True, mode='min')\n",
        "model.fit_generator(\n",
        "        train_generator,\n",
        "        steps_per_epoch=24,\n",
        "        epochs=10,\n",
        "        validation_data=test_generator,\n",
        "        validation_steps=16,\n",
        "        callbacks=[early_stopping_callback, checkpoint_callback])"
      ],
      "execution_count": 0,
      "outputs": [
        {
          "output_type": "stream",
          "text": [
            "Epoch 1/10\n",
            "24/24 [==============================] - 12s 513ms/step - loss: 0.7012 - acc: 0.4083 - val_loss: 0.6927 - val_acc: 0.6875\n",
            "\n",
            "Epoch 00001: val_loss improved from inf to 0.69265, saving model to best_model_cnn.h5\n",
            "Epoch 2/10\n",
            "24/24 [==============================] - 11s 473ms/step - loss: 0.6899 - acc: 0.5500 - val_loss: 0.6925 - val_acc: 0.7375\n",
            "\n",
            "Epoch 00002: val_loss improved from 0.69265 to 0.69253, saving model to best_model_cnn.h5\n",
            "Epoch 3/10\n",
            "24/24 [==============================] - 11s 478ms/step - loss: 0.6947 - acc: 0.4583 - val_loss: 0.6926 - val_acc: 0.7625\n",
            "\n",
            "Epoch 00003: val_loss did not improve from 0.69253\n",
            "Epoch 4/10\n",
            "24/24 [==============================] - 12s 479ms/step - loss: 0.6884 - acc: 0.5250 - val_loss: 0.6925 - val_acc: 0.7625\n",
            "\n",
            "Epoch 00004: val_loss improved from 0.69253 to 0.69250, saving model to best_model_cnn.h5\n",
            "Epoch 5/10\n",
            "24/24 [==============================] - 12s 481ms/step - loss: 0.6817 - acc: 0.5583 - val_loss: 0.6924 - val_acc: 0.8000\n",
            "\n",
            "Epoch 00005: val_loss improved from 0.69250 to 0.69237, saving model to best_model_cnn.h5\n",
            "Epoch 6/10\n",
            "24/24 [==============================] - 12s 480ms/step - loss: 0.6859 - acc: 0.5667 - val_loss: 0.6920 - val_acc: 0.8375\n",
            "\n",
            "Epoch 00006: val_loss improved from 0.69237 to 0.69201, saving model to best_model_cnn.h5\n",
            "Epoch 7/10\n",
            "24/24 [==============================] - 11s 477ms/step - loss: 0.6909 - acc: 0.5250 - val_loss: 0.6916 - val_acc: 0.8250\n",
            "\n",
            "Epoch 00007: val_loss improved from 0.69201 to 0.69158, saving model to best_model_cnn.h5\n",
            "Epoch 8/10\n",
            "24/24 [==============================] - 12s 485ms/step - loss: 0.6805 - acc: 0.5167 - val_loss: 0.6911 - val_acc: 0.8250\n",
            "\n",
            "Epoch 00008: val_loss improved from 0.69158 to 0.69113, saving model to best_model_cnn.h5\n",
            "Epoch 9/10\n",
            "24/24 [==============================] - 11s 467ms/step - loss: 0.6733 - acc: 0.5333 - val_loss: 0.6897 - val_acc: 0.8125\n",
            "\n",
            "Epoch 00009: val_loss improved from 0.69113 to 0.68970, saving model to best_model_cnn.h5\n",
            "Epoch 10/10\n",
            "24/24 [==============================] - 11s 465ms/step - loss: 0.6773 - acc: 0.5667 - val_loss: 0.6879 - val_acc: 0.8125\n",
            "\n",
            "Epoch 00010: val_loss improved from 0.68970 to 0.68789, saving model to best_model_cnn.h5\n"
          ],
          "name": "stdout"
        },
        {
          "output_type": "execute_result",
          "data": {
            "text/plain": [
              "<keras.callbacks.History at 0x7fbb599658d0>"
            ]
          },
          "metadata": {
            "tags": []
          },
          "execution_count": 26
        }
      ]
    },
    {
      "cell_type": "code",
      "metadata": {
        "id": "rCNe8PNU2H30",
        "colab_type": "code",
        "outputId": "e4f1afb9-34aa-4407-e4b4-017f56f9f99b",
        "colab": {
          "base_uri": "https://localhost:8080/",
          "height": 53
        }
      },
      "source": [
        "print(\"--TrianSet_Evaluate--\")\n",
        "scores=model.evaluate_generator(train_generator,steps=24)\n",
        "print(\"%s: %.2f%%\" %(model.metrics_names[1], scores[1]*100))"
      ],
      "execution_count": 0,
      "outputs": [
        {
          "output_type": "stream",
          "text": [
            "--TrianSet_Evaluate--\n",
            "acc: 80.00%\n"
          ],
          "name": "stdout"
        }
      ]
    },
    {
      "cell_type": "code",
      "metadata": {
        "id": "2zJ26J7z2JNs",
        "colab_type": "code",
        "outputId": "2397a102-6242-4413-d8af-786aee41bcbb",
        "colab": {
          "base_uri": "https://localhost:8080/",
          "height": 53
        }
      },
      "source": [
        "print(\"--TestSet_Evaluate--\")\n",
        "\n",
        "scores=model.evaluate_generator(test_generator,steps=16)\n",
        "print(\"%s: %.2f%%\" %(model.metrics_names[1], scores[1]*100))"
      ],
      "execution_count": 0,
      "outputs": [
        {
          "output_type": "stream",
          "text": [
            "--TestSet_Evaluate--\n",
            "acc: 81.25%\n"
          ],
          "name": "stdout"
        }
      ]
    },
    {
      "cell_type": "code",
      "metadata": {
        "id": "gX6b1CVbRZGX",
        "colab_type": "code",
        "colab": {}
      },
      "source": [
        ""
      ],
      "execution_count": 0,
      "outputs": []
    }
  ]
}