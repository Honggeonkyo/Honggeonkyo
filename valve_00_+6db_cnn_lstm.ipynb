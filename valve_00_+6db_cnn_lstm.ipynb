{
  "nbformat": 4,
  "nbformat_minor": 0,
  "metadata": {
    "colab": {
      "name": "valve_00_+6db_crnn.ipynb",
      "provenance": [],
      "collapsed_sections": [],
      "machine_shape": "hm"
    },
    "kernelspec": {
      "name": "python3",
      "display_name": "Python 3"
    }
  },
  "cells": [
    {
      "cell_type": "code",
      "metadata": {
        "id": "Yl6ppSnv-Lqm",
        "colab_type": "code",
        "outputId": "e1c8cc92-f82b-4301-9a4d-9c5c2ac2c926",
        "colab": {
          "base_uri": "https://localhost:8080/",
          "height": 127
        }
      },
      "source": [
        "from google.colab import auth\n",
        "auth.authenticate_user()\n",
        "\n",
        "\n",
        "from google.colab import drive\n",
        "drive.mount('/content/gdrive')"
      ],
      "execution_count": 0,
      "outputs": [
        {
          "output_type": "stream",
          "text": [
            "Go to this URL in a browser: https://accounts.google.com/o/oauth2/auth?client_id=947318989803-6bn6qk8qdgf4n4g3pfee6491hc0brc4i.apps.googleusercontent.com&redirect_uri=urn%3aietf%3awg%3aoauth%3a2.0%3aoob&response_type=code&scope=email%20https%3a%2f%2fwww.googleapis.com%2fauth%2fdocs.test%20https%3a%2f%2fwww.googleapis.com%2fauth%2fdrive%20https%3a%2f%2fwww.googleapis.com%2fauth%2fdrive.photos.readonly%20https%3a%2f%2fwww.googleapis.com%2fauth%2fpeopleapi.readonly\n",
            "\n",
            "Enter your authorization code:\n",
            "··········\n",
            "Mounted at /content/gdrive\n"
          ],
          "name": "stdout"
        }
      ]
    },
    {
      "cell_type": "code",
      "metadata": {
        "id": "2WGpS4FO-REp",
        "colab_type": "code",
        "outputId": "02559634-974c-4c42-be1a-7c9550f33b53",
        "colab": {
          "base_uri": "https://localhost:8080/",
          "height": 82
        }
      },
      "source": [
        "import numpy as np\n",
        "import tensorflow as tf\n",
        "import matplotlib.pyplot as plt\n",
        "from keras.preprocessing import sequence\n",
        "from keras.models import Sequential\n",
        "from keras.layers import Dense,Dropout,Activation,Embedding\n",
        "from keras.layers import LSTM\n",
        "from keras.layers import Conv1D,MaxPooling1D,Conv2D,MaxPooling2D,GlobalMaxPooling2D,Bidirectional,Reshape,Dropout\n",
        "from keras.layers import Flatten\n",
        "from keras.layers import TimeDistributed\n",
        "from keras.layers import RepeatVector\n",
        "from keras.callbacks import EarlyStopping\n",
        "from keras.callbacks import ModelCheckpoint\n",
        "from keras.optimizers import Adam"
      ],
      "execution_count": 0,
      "outputs": [
        {
          "output_type": "display_data",
          "data": {
            "text/html": [
              "<p style=\"color: red;\">\n",
              "The default version of TensorFlow in Colab will soon switch to TensorFlow 2.x.<br>\n",
              "We recommend you <a href=\"https://www.tensorflow.org/guide/migrate\" target=\"_blank\">upgrade</a> now \n",
              "or ensure your notebook will continue to use TensorFlow 1.x via the <code>%tensorflow_version 1.x</code> magic:\n",
              "<a href=\"https://colab.research.google.com/notebooks/tensorflow_version.ipynb\" target=\"_blank\">more info</a>.</p>\n"
            ],
            "text/plain": [
              "<IPython.core.display.HTML object>"
            ]
          },
          "metadata": {
            "tags": []
          }
        },
        {
          "output_type": "stream",
          "text": [
            "Using TensorFlow backend.\n"
          ],
          "name": "stderr"
        }
      ]
    },
    {
      "cell_type": "code",
      "metadata": {
        "id": "o35pbTAm-eWw",
        "colab_type": "code",
        "colab": {}
      },
      "source": [
        "from keras.preprocessing.image import ImageDataGenerator"
      ],
      "execution_count": 0,
      "outputs": []
    },
    {
      "cell_type": "code",
      "metadata": {
        "id": "yAEWGR8t-fsD",
        "colab_type": "code",
        "colab": {}
      },
      "source": [
        "np.random.seed(3)\n"
      ],
      "execution_count": 0,
      "outputs": []
    },
    {
      "cell_type": "code",
      "metadata": {
        "id": "G3uen-c8-gww",
        "colab_type": "code",
        "colab": {}
      },
      "source": [
        "train_datagen = ImageDataGenerator(rescale=1./255)"
      ],
      "execution_count": 0,
      "outputs": []
    },
    {
      "cell_type": "code",
      "metadata": {
        "id": "PRVt1bCW-jj4",
        "colab_type": "code",
        "outputId": "c2fc1365-4616-479a-a72d-66ea3b05d5a1",
        "colab": {
          "base_uri": "https://localhost:8080/",
          "height": 53
        }
      },
      "source": [
        "np.random.seed(3)\n",
        "train_datagen = ImageDataGenerator(rescale = 1./255)\n",
        "test_datagen = ImageDataGenerator(rescale = 1./255)\n",
        "train_generator = train_datagen.flow_from_directory('/content/gdrive/My Drive/Colab Notebooks/valve_id_00_+6db/trainingSet',\n",
        "                                                 target_size = (560, 420),\n",
        "                                                 batch_size = 12,                                                \n",
        "                                                 class_mode = 'categorical')\n",
        "test_generator = test_datagen.flow_from_directory('/content/gdrive/My Drive/Colab Notebooks/valve_id_00_+6db/testSet',\n",
        "                                            target_size = (560, 420),\n",
        "                                            batch_size = 8,                                            \n",
        "                                            class_mode = 'categorical')"
      ],
      "execution_count": 0,
      "outputs": [
        {
          "output_type": "stream",
          "text": [
            "Found 120 images belonging to 2 classes.\n",
            "Found 80 images belonging to 2 classes.\n"
          ],
          "name": "stdout"
        }
      ]
    },
    {
      "cell_type": "code",
      "metadata": {
        "id": "vF8xEypN-lWQ",
        "colab_type": "code",
        "outputId": "7f7464db-09d1-45c5-9610-5c7a4d53e5eb",
        "colab": {
          "base_uri": "https://localhost:8080/",
          "height": 593
        }
      },
      "source": [
        "model = Sequential()\n",
        "model.add(Conv2D(28, kernel_size=(2, 2),\n",
        "                 activation='relu',input_shape=(560,420,3)))\n",
        "model.add(MaxPooling2D(pool_size=(2, 2)))\n",
        "model.add(Dropout(0.5))\n",
        "model.add(Conv2D(15, kernel_size=(1,1),\n",
        "                 activation='relu'))\n",
        "model.add(MaxPooling2D(pool_size=(2, 2)))\n",
        "model.add(Conv2D(1, kernel_size=(1,1),\n",
        "                 activation='relu'))\n",
        "model.add(MaxPooling2D(pool_size=(2, 2)))\n",
        "model.add(Reshape((-1,1)))\n",
        "model.add(LSTM(200, activation='relu',return_sequences=True))\n",
        "model.add(Flatten())\n",
        "model.add(Dropout(0.5))\n",
        "model.add(Dense(2,activation='softmax' ))\n",
        "model.summary()\n",
        "model.compile(loss='categorical_crossentropy',optimizer=Adam(lr=0.001),metrics=['accuracy'])"
      ],
      "execution_count": 0,
      "outputs": [
        {
          "output_type": "stream",
          "text": [
            "Model: \"sequential_21\"\n",
            "_________________________________________________________________\n",
            "Layer (type)                 Output Shape              Param #   \n",
            "=================================================================\n",
            "conv2d_74 (Conv2D)           (None, 559, 419, 28)      364       \n",
            "_________________________________________________________________\n",
            "max_pooling2d_74 (MaxPooling (None, 279, 209, 28)      0         \n",
            "_________________________________________________________________\n",
            "dropout_22 (Dropout)         (None, 279, 209, 28)      0         \n",
            "_________________________________________________________________\n",
            "conv2d_75 (Conv2D)           (None, 279, 209, 15)      435       \n",
            "_________________________________________________________________\n",
            "max_pooling2d_75 (MaxPooling (None, 139, 104, 15)      0         \n",
            "_________________________________________________________________\n",
            "conv2d_76 (Conv2D)           (None, 139, 104, 1)       16        \n",
            "_________________________________________________________________\n",
            "max_pooling2d_76 (MaxPooling (None, 69, 52, 1)         0         \n",
            "_________________________________________________________________\n",
            "reshape_21 (Reshape)         (None, 3588, 1)           0         \n",
            "_________________________________________________________________\n",
            "lstm_21 (LSTM)               (None, 3588, 200)         161600    \n",
            "_________________________________________________________________\n",
            "flatten_21 (Flatten)         (None, 717600)            0         \n",
            "_________________________________________________________________\n",
            "dropout_23 (Dropout)         (None, 717600)            0         \n",
            "_________________________________________________________________\n",
            "dense_21 (Dense)             (None, 2)                 1435202   \n",
            "=================================================================\n",
            "Total params: 1,597,617\n",
            "Trainable params: 1,597,617\n",
            "Non-trainable params: 0\n",
            "_________________________________________________________________\n"
          ],
          "name": "stdout"
        }
      ]
    },
    {
      "cell_type": "code",
      "metadata": {
        "id": "Dqnx4NV1-50G",
        "colab_type": "code",
        "outputId": "cf407d22-6c76-4409-eb0d-c07aa2322848",
        "colab": {
          "base_uri": "https://localhost:8080/",
          "height": 611
        }
      },
      "source": [
        "early_stopping_callback = EarlyStopping(monitor='val_loss',mode='min', patience=5)\n",
        "checkpoint_callback = ModelCheckpoint('best_model.h5', monitor='val_loss', verbose=1, save_best_only=True, mode='min')\n",
        "model.fit_generator(\n",
        "        train_generator,\n",
        "        steps_per_epoch=10,\n",
        "        epochs=10,\n",
        "        validation_data=test_generator,\n",
        "        validation_steps=10,\n",
        "        callbacks=[early_stopping_callback, checkpoint_callback])"
      ],
      "execution_count": 0,
      "outputs": [
        {
          "output_type": "stream",
          "text": [
            "Epoch 1/10\n",
            "10/10 [==============================] - 57s 6s/step - loss: 0.6791 - acc: 0.6417 - val_loss: 0.5331 - val_acc: 0.8500\n",
            "\n",
            "Epoch 00001: val_loss improved from inf to 0.53314, saving model to best_model.h5\n",
            "Epoch 2/10\n",
            "10/10 [==============================] - 52s 5s/step - loss: 0.4093 - acc: 0.8417 - val_loss: 0.2626 - val_acc: 0.9000\n",
            "\n",
            "Epoch 00002: val_loss improved from 0.53314 to 0.26256, saving model to best_model.h5\n",
            "Epoch 3/10\n",
            "10/10 [==============================] - 51s 5s/step - loss: 0.3793 - acc: 0.8417 - val_loss: 0.1259 - val_acc: 0.9625\n",
            "\n",
            "Epoch 00003: val_loss improved from 0.26256 to 0.12592, saving model to best_model.h5\n",
            "Epoch 4/10\n",
            "10/10 [==============================] - 52s 5s/step - loss: 0.3384 - acc: 0.8417 - val_loss: 0.6931 - val_acc: 0.5000\n",
            "\n",
            "Epoch 00004: val_loss did not improve from 0.12592\n",
            "Epoch 5/10\n",
            "10/10 [==============================] - 52s 5s/step - loss: 0.3021 - acc: 0.9000 - val_loss: 0.2020 - val_acc: 0.9375\n",
            "\n",
            "Epoch 00005: val_loss did not improve from 0.12592\n",
            "Epoch 6/10\n",
            "10/10 [==============================] - 52s 5s/step - loss: 0.1850 - acc: 0.9250 - val_loss: 0.2311 - val_acc: 0.9125\n",
            "\n",
            "Epoch 00006: val_loss did not improve from 0.12592\n",
            "Epoch 7/10\n",
            "10/10 [==============================] - 51s 5s/step - loss: 0.1623 - acc: 0.9667 - val_loss: 0.1970 - val_acc: 0.9375\n",
            "\n",
            "Epoch 00007: val_loss did not improve from 0.12592\n",
            "Epoch 8/10\n",
            "10/10 [==============================] - 51s 5s/step - loss: 0.1581 - acc: 0.9583 - val_loss: 0.2784 - val_acc: 0.8625\n",
            "\n",
            "Epoch 00008: val_loss did not improve from 0.12592\n"
          ],
          "name": "stdout"
        },
        {
          "output_type": "execute_result",
          "data": {
            "text/plain": [
              "<keras.callbacks.History at 0x7fd0eb792c50>"
            ]
          },
          "metadata": {
            "tags": []
          },
          "execution_count": 47
        }
      ]
    },
    {
      "cell_type": "code",
      "metadata": {
        "id": "2ddsK945-9Qe",
        "colab_type": "code",
        "outputId": "b9abdae5-940a-4517-fd3c-b55cb35f6927",
        "colab": {
          "base_uri": "https://localhost:8080/",
          "height": 53
        }
      },
      "source": [
        "print(\"--TrianSet_Evaluate--\")\n",
        "scores=model.evaluate_generator(train_generator,steps=12)\n",
        "print(\"%s: %.2f%%\" %(model.metrics_names[1], scores[1]*100))"
      ],
      "execution_count": 0,
      "outputs": [
        {
          "output_type": "stream",
          "text": [
            "--TrianSet_Evaluate--\n",
            "acc: 94.44%\n"
          ],
          "name": "stdout"
        }
      ]
    },
    {
      "cell_type": "code",
      "metadata": {
        "id": "QR0qwdqo--lF",
        "colab_type": "code",
        "outputId": "c26d6a3e-3372-4730-b4c2-de1e898ebdd1",
        "colab": {
          "base_uri": "https://localhost:8080/",
          "height": 53
        }
      },
      "source": [
        "print(\"--TestSet_Evaluate--\")\n",
        "\n",
        "scores=model.evaluate_generator(test_generator,steps=8)\n",
        "print(\"%s: %.2f%%\" %(model.metrics_names[1], scores[1]*100))"
      ],
      "execution_count": 0,
      "outputs": [
        {
          "output_type": "stream",
          "text": [
            "--TestSet_Evaluate--\n",
            "acc: 85.94%\n"
          ],
          "name": "stdout"
        }
      ]
    },
    {
      "cell_type": "code",
      "metadata": {
        "id": "P3-Dc3bG2SDh",
        "colab_type": "code",
        "colab": {}
      },
      "source": [
        ""
      ],
      "execution_count": 0,
      "outputs": []
    }
  ]
}