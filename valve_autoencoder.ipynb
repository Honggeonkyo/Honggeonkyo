{
  "nbformat": 4,
  "nbformat_minor": 0,
  "metadata": {
    "colab": {
      "name": "valve_autoencoder.ipynb",
      "provenance": [],
      "collapsed_sections": []
    },
    "kernelspec": {
      "name": "python3",
      "display_name": "Python 3"
    }
  },
  "cells": [
    {
      "cell_type": "code",
      "metadata": {
        "id": "ayLi5hMx-J4e",
        "colab_type": "code",
        "outputId": "b8f1a465-d278-401a-95b4-1c87a32e5966",
        "colab": {
          "base_uri": "https://localhost:8080/",
          "height": 127
        }
      },
      "source": [
        "from google.colab import auth\n",
        "auth.authenticate_user()\n",
        "\n",
        "from google.colab import drive\n",
        "drive.mount('/content/gdrive')"
      ],
      "execution_count": 0,
      "outputs": [
        {
          "output_type": "stream",
          "text": [
            "Go to this URL in a browser: https://accounts.google.com/o/oauth2/auth?client_id=947318989803-6bn6qk8qdgf4n4g3pfee6491hc0brc4i.apps.googleusercontent.com&redirect_uri=urn%3aietf%3awg%3aoauth%3a2.0%3aoob&response_type=code&scope=email%20https%3a%2f%2fwww.googleapis.com%2fauth%2fdocs.test%20https%3a%2f%2fwww.googleapis.com%2fauth%2fdrive%20https%3a%2f%2fwww.googleapis.com%2fauth%2fdrive.photos.readonly%20https%3a%2f%2fwww.googleapis.com%2fauth%2fpeopleapi.readonly\n",
            "\n",
            "Enter your authorization code:\n",
            "··········\n",
            "Mounted at /content/gdrive\n"
          ],
          "name": "stdout"
        }
      ]
    },
    {
      "cell_type": "code",
      "metadata": {
        "id": "EOOcPdw3SMtc",
        "colab_type": "code",
        "outputId": "d60bf786-29da-452d-e3a4-1fbad0b08784",
        "colab": {
          "base_uri": "https://localhost:8080/",
          "height": 82
        }
      },
      "source": [
        "import os\n",
        "import glob\n",
        "\n",
        "import numpy as np \n",
        "import pandas as pd \n",
        "import matplotlib.pyplot as plt\n",
        "import cv2\n",
        "\n",
        "from keras.preprocessing import image\n",
        "from keras.models import Model\n",
        "from keras.optimizers import Adam\n",
        "from keras.callbacks import EarlyStopping\n",
        "from keras.layers import Input, Dense, Activation, BatchNormalization, Flatten, Conv2D\n",
        "from keras.layers import MaxPooling2D, Dropout, UpSampling2D\n",
        "from keras.models import Sequential"
      ],
      "execution_count": 0,
      "outputs": [
        {
          "output_type": "stream",
          "text": [
            "Using TensorFlow backend.\n"
          ],
          "name": "stderr"
        },
        {
          "output_type": "display_data",
          "data": {
            "text/html": [
              "<p style=\"color: red;\">\n",
              "The default version of TensorFlow in Colab will soon switch to TensorFlow 2.x.<br>\n",
              "We recommend you <a href=\"https://www.tensorflow.org/guide/migrate\" target=\"_blank\">upgrade</a> now \n",
              "or ensure your notebook will continue to use TensorFlow 1.x via the <code>%tensorflow_version 1.x</code> magic:\n",
              "<a href=\"https://colab.research.google.com/notebooks/tensorflow_version.ipynb\" target=\"_blank\">more info</a>.</p>\n"
            ],
            "text/plain": [
              "<IPython.core.display.HTML object>"
            ]
          },
          "metadata": {
            "tags": []
          }
        }
      ]
    },
    {
      "cell_type": "code",
      "metadata": {
        "id": "uSxZC1i_SIMU",
        "colab_type": "code",
        "colab": {}
      },
      "source": [
        "%matplotlib inline"
      ],
      "execution_count": 0,
      "outputs": []
    },
    {
      "cell_type": "code",
      "metadata": {
        "id": "dlhjIkg9UT_G",
        "colab_type": "code",
        "colab": {}
      },
      "source": [
        "TRAIN_IMAGES = glob.glob('/content/gdrive/My Drive/Colab Notebooks/valve+6db_encoder/trainingSet/0/*.jpg')"
      ],
      "execution_count": 0,
      "outputs": []
    },
    {
      "cell_type": "code",
      "metadata": {
        "id": "1e4gHrQOU_SS",
        "colab_type": "code",
        "colab": {}
      },
      "source": [
        "TEST_IMAGES = glob.glob('/content/gdrive/My Drive/Colab Notebooks/valve+6db_encoder/testSet/0/*.jpg')"
      ],
      "execution_count": 0,
      "outputs": []
    },
    {
      "cell_type": "code",
      "metadata": {
        "id": "3cuNJh6bu_kX",
        "colab_type": "code",
        "colab": {}
      },
      "source": [
        "\n",
        "TRAIN_IMAGES = glob.glob('/content/gdrive/My Drive/Colab Notebooks/t_autoencoder/trainingSet/1/*.jpg')\n",
        "TEST_IMAGES = glob.glob('/content/gdrive/My Drive/Colab Notebooks/t_autoencoder/testSet/0/*.jpg')\n",
        "\n",
        "def load_image(path):\n",
        "    image_list = np.zeros((len(path),560, 420, 3))\n",
        "    for i, fig in enumerate(path):\n",
        "        img = image.load_img(fig, color_mode='rgb', target_size=(560, 420))\n",
        "        x = image.img_to_array(img).astype('float32')\n",
        "        x = x / 255.0\n",
        "        image_list[i] = x\n",
        "    \n",
        "    return image_list\n",
        "\n",
        "x_train = load_image(TRAIN_IMAGES)\n",
        "x_test = load_image(TEST_IMAGES)\n",
        "\n"
      ],
      "execution_count": 0,
      "outputs": []
    },
    {
      "cell_type": "code",
      "metadata": {
        "id": "Z4SpMea1UWWP",
        "colab_type": "code",
        "outputId": "b69ba991-3952-40e0-d890-700120dc481a",
        "colab": {
          "base_uri": "https://localhost:8080/",
          "height": 35
        }
      },
      "source": [
        "print(x_train.shape, x_test.shape)"
      ],
      "execution_count": 0,
      "outputs": [
        {
          "output_type": "stream",
          "text": [
            "(100, 560, 420, 3) (100, 560, 420, 3)\n"
          ],
          "name": "stdout"
        }
      ]
    },
    {
      "cell_type": "code",
      "metadata": {
        "id": "RodyxRZ5VgpX",
        "colab_type": "code",
        "colab": {}
      },
      "source": [
        "x_train = load_image(TRAIN_IMAGES)"
      ],
      "execution_count": 0,
      "outputs": []
    },
    {
      "cell_type": "code",
      "metadata": {
        "id": "rG3t83S0WFFH",
        "colab_type": "code",
        "colab": {}
      },
      "source": [
        "x_test = load_image(TEST_IMAGES)"
      ],
      "execution_count": 0,
      "outputs": []
    },
    {
      "cell_type": "code",
      "metadata": {
        "id": "cHMC7P48s7tC",
        "colab_type": "code",
        "colab": {}
      },
      "source": [
        "x_train = x_train.reshape((len(x_train), np.prod(x_train.shape[1:])))\n",
        "x_test = x_test.reshape((len(x_test), np.prod(x_test.shape[1:])))"
      ],
      "execution_count": 0,
      "outputs": []
    },
    {
      "cell_type": "code",
      "metadata": {
        "id": "DSh2SPG0RqKl",
        "colab_type": "code",
        "outputId": "9d78fda2-9a6d-44a6-f0e1-38170ec0c7d8",
        "colab": {
          "base_uri": "https://localhost:8080/",
          "height": 179
        }
      },
      "source": [
        "print(x_train.shape)\n",
        "print(x_test.shape)\n",
        "print(x_train)"
      ],
      "execution_count": 0,
      "outputs": [
        {
          "output_type": "stream",
          "text": [
            "(100, 705600)\n",
            "(100, 705600)\n",
            "[[1. 1. 1. ... 1. 1. 1.]\n",
            " [1. 1. 1. ... 1. 1. 1.]\n",
            " [1. 1. 1. ... 1. 1. 1.]\n",
            " ...\n",
            " [1. 1. 1. ... 1. 1. 1.]\n",
            " [1. 1. 1. ... 1. 1. 1.]\n",
            " [1. 1. 1. ... 1. 1. 1.]]\n"
          ],
          "name": "stdout"
        }
      ]
    },
    {
      "cell_type": "code",
      "metadata": {
        "id": "ldOnbPDTrqhP",
        "colab_type": "code",
        "outputId": "fde5b7b2-ee98-4b12-ab51-4f98b9779405",
        "colab": {
          "base_uri": "https://localhost:8080/",
          "height": 1000
        }
      },
      "source": [
        "input_img=Input(shape=(705600,))\n",
        "encoded = Dense(64, activation='relu')(input_img)\n",
        "encoded = Dense(64, activation='relu')(encoded)\n",
        "encoded = Dense(8, activation='relu')(encoded)\n",
        "\n",
        "decoded = Dense(8, activation='relu')(encoded)\n",
        "decoded = Dense(64, activation='relu')(decoded)\n",
        "decoded = Dense(705600, activation='sigmoid')(decoded)\n",
        "\n",
        "autoencoder = Model(input_img, decoded)\n",
        "autoencoder.summary()\n",
        "autoencoder.compile(optimizer='adadelta', loss='binary_crossentropy',metrics=['accuracy'])\n",
        "from keras.utils.vis_utils import plot_model\n",
        "plot_model(autoencoder, to_file='model_plot.png', show_shapes=True, show_layer_names=True)"
      ],
      "execution_count": 0,
      "outputs": [
        {
          "output_type": "stream",
          "text": [
            "WARNING:tensorflow:From /usr/local/lib/python3.6/dist-packages/keras/backend/tensorflow_backend.py:66: The name tf.get_default_graph is deprecated. Please use tf.compat.v1.get_default_graph instead.\n",
            "\n"
          ],
          "name": "stdout"
        },
        {
          "output_type": "stream",
          "text": [
            "WARNING:tensorflow:From /usr/local/lib/python3.6/dist-packages/keras/backend/tensorflow_backend.py:66: The name tf.get_default_graph is deprecated. Please use tf.compat.v1.get_default_graph instead.\n",
            "\n"
          ],
          "name": "stderr"
        },
        {
          "output_type": "stream",
          "text": [
            "WARNING:tensorflow:From /usr/local/lib/python3.6/dist-packages/keras/backend/tensorflow_backend.py:541: The name tf.placeholder is deprecated. Please use tf.compat.v1.placeholder instead.\n",
            "\n"
          ],
          "name": "stdout"
        },
        {
          "output_type": "stream",
          "text": [
            "WARNING:tensorflow:From /usr/local/lib/python3.6/dist-packages/keras/backend/tensorflow_backend.py:541: The name tf.placeholder is deprecated. Please use tf.compat.v1.placeholder instead.\n",
            "\n"
          ],
          "name": "stderr"
        },
        {
          "output_type": "stream",
          "text": [
            "WARNING:tensorflow:From /usr/local/lib/python3.6/dist-packages/keras/backend/tensorflow_backend.py:4432: The name tf.random_uniform is deprecated. Please use tf.random.uniform instead.\n",
            "\n"
          ],
          "name": "stdout"
        },
        {
          "output_type": "stream",
          "text": [
            "WARNING:tensorflow:From /usr/local/lib/python3.6/dist-packages/keras/backend/tensorflow_backend.py:4432: The name tf.random_uniform is deprecated. Please use tf.random.uniform instead.\n",
            "\n"
          ],
          "name": "stderr"
        },
        {
          "output_type": "stream",
          "text": [
            "Model: \"model_1\"\n",
            "_________________________________________________________________\n",
            "Layer (type)                 Output Shape              Param #   \n",
            "=================================================================\n",
            "input_1 (InputLayer)         (None, 705600)            0         \n",
            "_________________________________________________________________\n",
            "dense_1 (Dense)              (None, 64)                45158464  \n",
            "_________________________________________________________________\n",
            "dense_2 (Dense)              (None, 64)                4160      \n",
            "_________________________________________________________________\n",
            "dense_3 (Dense)              (None, 8)                 520       \n",
            "_________________________________________________________________\n",
            "dense_4 (Dense)              (None, 8)                 72        \n",
            "_________________________________________________________________\n",
            "dense_5 (Dense)              (None, 64)                576       \n",
            "_________________________________________________________________\n",
            "dense_6 (Dense)              (None, 705600)            45864000  \n",
            "=================================================================\n",
            "Total params: 91,027,792\n",
            "Trainable params: 91,027,792\n",
            "Non-trainable params: 0\n",
            "_________________________________________________________________\n",
            "WARNING:tensorflow:From /usr/local/lib/python3.6/dist-packages/keras/optimizers.py:793: The name tf.train.Optimizer is deprecated. Please use tf.compat.v1.train.Optimizer instead.\n",
            "\n"
          ],
          "name": "stdout"
        },
        {
          "output_type": "stream",
          "text": [
            "WARNING:tensorflow:From /usr/local/lib/python3.6/dist-packages/keras/optimizers.py:793: The name tf.train.Optimizer is deprecated. Please use tf.compat.v1.train.Optimizer instead.\n",
            "\n"
          ],
          "name": "stderr"
        },
        {
          "output_type": "stream",
          "text": [
            "WARNING:tensorflow:From /usr/local/lib/python3.6/dist-packages/keras/backend/tensorflow_backend.py:3657: The name tf.log is deprecated. Please use tf.math.log instead.\n",
            "\n"
          ],
          "name": "stdout"
        },
        {
          "output_type": "stream",
          "text": [
            "WARNING:tensorflow:From /usr/local/lib/python3.6/dist-packages/keras/backend/tensorflow_backend.py:3657: The name tf.log is deprecated. Please use tf.math.log instead.\n",
            "\n"
          ],
          "name": "stderr"
        },
        {
          "output_type": "stream",
          "text": [
            "WARNING:tensorflow:From /usr/local/lib/python3.6/dist-packages/tensorflow_core/python/ops/nn_impl.py:183: where (from tensorflow.python.ops.array_ops) is deprecated and will be removed in a future version.\n",
            "Instructions for updating:\n",
            "Use tf.where in 2.0, which has the same broadcast rule as np.where\n"
          ],
          "name": "stdout"
        },
        {
          "output_type": "stream",
          "text": [
            "WARNING:tensorflow:From /usr/local/lib/python3.6/dist-packages/tensorflow_core/python/ops/nn_impl.py:183: where (from tensorflow.python.ops.array_ops) is deprecated and will be removed in a future version.\n",
            "Instructions for updating:\n",
            "Use tf.where in 2.0, which has the same broadcast rule as np.where\n"
          ],
          "name": "stderr"
        },
        {
          "output_type": "execute_result",
          "data": {
            "image/png": "[encoded data removed]",
            "text/plain": [
              "<IPython.core.display.Image object>"
            ]
          },
          "metadata": {
            "tags": []
          },
          "execution_count": 13
        }
      ]
    },
    {
      "cell_type": "code",
      "metadata": {
        "id": "hRmbhLxlr2N6",
        "colab_type": "code",
        "outputId": "e29fe134-13e1-4e0b-c150-6914c6e49f16",
        "colab": {
          "base_uri": "https://localhost:8080/",
          "height": 1000
        }
      },
      "source": [
        "autoencoder.fit(x_train, x_train,\n",
        "                epochs=50,\n",
        "                batch_size=10,\n",
        "                shuffle=True,\n",
        "                validation_data=(x_test, x_test))"
      ],
      "execution_count": 0,
      "outputs": [
        {
          "output_type": "stream",
          "text": [
            "WARNING:tensorflow:From /usr/local/lib/python3.6/dist-packages/keras/backend/tensorflow_backend.py:1033: The name tf.assign_add is deprecated. Please use tf.compat.v1.assign_add instead.\n",
            "\n"
          ],
          "name": "stdout"
        },
        {
          "output_type": "stream",
          "text": [
            "WARNING:tensorflow:From /usr/local/lib/python3.6/dist-packages/keras/backend/tensorflow_backend.py:1033: The name tf.assign_add is deprecated. Please use tf.compat.v1.assign_add instead.\n",
            "\n"
          ],
          "name": "stderr"
        },
        {
          "output_type": "stream",
          "text": [
            "WARNING:tensorflow:From /usr/local/lib/python3.6/dist-packages/keras/backend/tensorflow_backend.py:1020: The name tf.assign is deprecated. Please use tf.compat.v1.assign instead.\n",
            "\n"
          ],
          "name": "stdout"
        },
        {
          "output_type": "stream",
          "text": [
            "WARNING:tensorflow:From /usr/local/lib/python3.6/dist-packages/keras/backend/tensorflow_backend.py:1020: The name tf.assign is deprecated. Please use tf.compat.v1.assign instead.\n",
            "\n"
          ],
          "name": "stderr"
        },
        {
          "output_type": "stream",
          "text": [
            "WARNING:tensorflow:From /usr/local/lib/python3.6/dist-packages/keras/backend/tensorflow_backend.py:3005: The name tf.Session is deprecated. Please use tf.compat.v1.Session instead.\n",
            "\n"
          ],
          "name": "stdout"
        },
        {
          "output_type": "stream",
          "text": [
            "WARNING:tensorflow:From /usr/local/lib/python3.6/dist-packages/keras/backend/tensorflow_backend.py:3005: The name tf.Session is deprecated. Please use tf.compat.v1.Session instead.\n",
            "\n"
          ],
          "name": "stderr"
        },
        {
          "output_type": "stream",
          "text": [
            "Train on 100 samples, validate on 100 samples\n",
            "Epoch 1/50\n",
            "WARNING:tensorflow:From /usr/local/lib/python3.6/dist-packages/keras/backend/tensorflow_backend.py:190: The name tf.get_default_session is deprecated. Please use tf.compat.v1.get_default_session instead.\n",
            "\n"
          ],
          "name": "stdout"
        },
        {
          "output_type": "stream",
          "text": [
            "WARNING:tensorflow:From /usr/local/lib/python3.6/dist-packages/keras/backend/tensorflow_backend.py:190: The name tf.get_default_session is deprecated. Please use tf.compat.v1.get_default_session instead.\n",
            "\n"
          ],
          "name": "stderr"
        },
        {
          "output_type": "stream",
          "text": [
            "WARNING:tensorflow:From /usr/local/lib/python3.6/dist-packages/keras/backend/tensorflow_backend.py:197: The name tf.ConfigProto is deprecated. Please use tf.compat.v1.ConfigProto instead.\n",
            "\n"
          ],
          "name": "stdout"
        },
        {
          "output_type": "stream",
          "text": [
            "WARNING:tensorflow:From /usr/local/lib/python3.6/dist-packages/keras/backend/tensorflow_backend.py:197: The name tf.ConfigProto is deprecated. Please use tf.compat.v1.ConfigProto instead.\n",
            "\n"
          ],
          "name": "stderr"
        },
        {
          "output_type": "stream",
          "text": [
            "WARNING:tensorflow:From /usr/local/lib/python3.6/dist-packages/keras/backend/tensorflow_backend.py:207: The name tf.global_variables is deprecated. Please use tf.compat.v1.global_variables instead.\n",
            "\n"
          ],
          "name": "stdout"
        },
        {
          "output_type": "stream",
          "text": [
            "WARNING:tensorflow:From /usr/local/lib/python3.6/dist-packages/keras/backend/tensorflow_backend.py:207: The name tf.global_variables is deprecated. Please use tf.compat.v1.global_variables instead.\n",
            "\n"
          ],
          "name": "stderr"
        },
        {
          "output_type": "stream",
          "text": [
            "WARNING:tensorflow:From /usr/local/lib/python3.6/dist-packages/keras/backend/tensorflow_backend.py:216: The name tf.is_variable_initialized is deprecated. Please use tf.compat.v1.is_variable_initialized instead.\n",
            "\n"
          ],
          "name": "stdout"
        },
        {
          "output_type": "stream",
          "text": [
            "WARNING:tensorflow:From /usr/local/lib/python3.6/dist-packages/keras/backend/tensorflow_backend.py:216: The name tf.is_variable_initialized is deprecated. Please use tf.compat.v1.is_variable_initialized instead.\n",
            "\n"
          ],
          "name": "stderr"
        },
        {
          "output_type": "stream",
          "text": [
            "WARNING:tensorflow:From /usr/local/lib/python3.6/dist-packages/keras/backend/tensorflow_backend.py:223: The name tf.variables_initializer is deprecated. Please use tf.compat.v1.variables_initializer instead.\n",
            "\n"
          ],
          "name": "stdout"
        },
        {
          "output_type": "stream",
          "text": [
            "WARNING:tensorflow:From /usr/local/lib/python3.6/dist-packages/keras/backend/tensorflow_backend.py:223: The name tf.variables_initializer is deprecated. Please use tf.compat.v1.variables_initializer instead.\n",
            "\n"
          ],
          "name": "stderr"
        },
        {
          "output_type": "stream",
          "text": [
            "100/100 [==============================] - 29s 286ms/step - loss: 0.6931 - acc: 0.1775 - val_loss: 0.6931 - val_acc: 0.1778\n",
            "Epoch 2/50\n",
            "100/100 [==============================] - 25s 246ms/step - loss: 0.6931 - acc: 0.1782 - val_loss: 0.6931 - val_acc: 0.1785\n",
            "Epoch 3/50\n",
            "100/100 [==============================] - 25s 246ms/step - loss: 0.6931 - acc: 0.1793 - val_loss: 0.6931 - val_acc: 0.1801\n",
            "Epoch 4/50\n",
            "100/100 [==============================] - 25s 246ms/step - loss: 0.6931 - acc: 0.1817 - val_loss: 0.6929 - val_acc: 0.1838\n",
            "Epoch 5/50\n",
            "100/100 [==============================] - 25s 247ms/step - loss: 0.6926 - acc: 0.1875 - val_loss: 0.6920 - val_acc: 0.1931\n",
            "Epoch 6/50\n",
            "100/100 [==============================] - 25s 246ms/step - loss: 0.6896 - acc: 0.2027 - val_loss: 0.6835 - val_acc: 0.2194\n",
            "Epoch 7/50\n",
            "100/100 [==============================] - 25s 245ms/step - loss: 0.6488 - acc: 0.2538 - val_loss: 0.5465 - val_acc: 0.3195\n",
            "Epoch 8/50\n",
            "100/100 [==============================] - 25s 246ms/step - loss: 0.4101 - acc: 0.3483 - val_loss: 0.3556 - val_acc: 0.3539\n",
            "Epoch 9/50\n",
            "100/100 [==============================] - 25s 246ms/step - loss: 0.3380 - acc: 0.3546 - val_loss: 0.3461 - val_acc: 0.3539\n",
            "Epoch 10/50\n",
            "100/100 [==============================] - 24s 241ms/step - loss: 0.3341 - acc: 0.3546 - val_loss: 0.3446 - val_acc: 0.3539\n",
            "Epoch 11/50\n",
            "100/100 [==============================] - 24s 241ms/step - loss: 0.3331 - acc: 0.3546 - val_loss: 0.3438 - val_acc: 0.3539\n",
            "Epoch 12/50\n",
            "100/100 [==============================] - 24s 241ms/step - loss: 0.3329 - acc: 0.3546 - val_loss: 0.3428 - val_acc: 0.3539\n",
            "Epoch 13/50\n",
            "100/100 [==============================] - 24s 241ms/step - loss: 0.3326 - acc: 0.3546 - val_loss: 0.3459 - val_acc: 0.3539\n",
            "Epoch 14/50\n",
            "100/100 [==============================] - 24s 241ms/step - loss: 0.3324 - acc: 0.3546 - val_loss: 0.3437 - val_acc: 0.3539\n",
            "Epoch 15/50\n",
            "100/100 [==============================] - 24s 239ms/step - loss: 0.3326 - acc: 0.3546 - val_loss: 0.3451 - val_acc: 0.3539\n",
            "Epoch 16/50\n",
            "100/100 [==============================] - 24s 239ms/step - loss: 0.3322 - acc: 0.3546 - val_loss: 0.3429 - val_acc: 0.3539\n",
            "Epoch 17/50\n",
            "100/100 [==============================] - 24s 240ms/step - loss: 0.3322 - acc: 0.3546 - val_loss: 0.3467 - val_acc: 0.3539\n",
            "Epoch 18/50\n",
            "100/100 [==============================] - 24s 240ms/step - loss: 0.3327 - acc: 0.3546 - val_loss: 0.3427 - val_acc: 0.3539\n",
            "Epoch 19/50\n",
            "100/100 [==============================] - 24s 239ms/step - loss: 0.3324 - acc: 0.3546 - val_loss: 0.3451 - val_acc: 0.3539\n",
            "Epoch 20/50\n",
            "100/100 [==============================] - 24s 238ms/step - loss: 0.3325 - acc: 0.3546 - val_loss: 0.3451 - val_acc: 0.3539\n",
            "Epoch 21/50\n",
            "100/100 [==============================] - 24s 238ms/step - loss: 0.3324 - acc: 0.3546 - val_loss: 0.3448 - val_acc: 0.3539\n",
            "Epoch 22/50\n",
            "100/100 [==============================] - 24s 239ms/step - loss: 0.3323 - acc: 0.3546 - val_loss: 0.3430 - val_acc: 0.3539\n",
            "Epoch 23/50\n",
            "100/100 [==============================] - 24s 237ms/step - loss: 0.3324 - acc: 0.3546 - val_loss: 0.3436 - val_acc: 0.3539\n",
            "Epoch 24/50\n",
            "100/100 [==============================] - 24s 237ms/step - loss: 0.3319 - acc: 0.3546 - val_loss: 0.3412 - val_acc: 0.3539\n",
            "Epoch 25/50\n",
            "100/100 [==============================] - 24s 237ms/step - loss: 0.3318 - acc: 0.3546 - val_loss: 0.3424 - val_acc: 0.3539\n",
            "Epoch 26/50\n",
            "100/100 [==============================] - 24s 237ms/step - loss: 0.3327 - acc: 0.3546 - val_loss: 0.3435 - val_acc: 0.3539\n",
            "Epoch 27/50\n",
            "100/100 [==============================] - 24s 237ms/step - loss: 0.3319 - acc: 0.3546 - val_loss: 0.3436 - val_acc: 0.3539\n",
            "Epoch 28/50\n",
            "100/100 [==============================] - 24s 237ms/step - loss: 0.3322 - acc: 0.3546 - val_loss: 0.3424 - val_acc: 0.3539\n",
            "Epoch 29/50\n",
            "100/100 [==============================] - 24s 237ms/step - loss: 0.3322 - acc: 0.3546 - val_loss: 0.3431 - val_acc: 0.3539\n",
            "Epoch 30/50\n",
            "100/100 [==============================] - 24s 238ms/step - loss: 0.3321 - acc: 0.3546 - val_loss: 0.3435 - val_acc: 0.3539\n",
            "Epoch 31/50\n",
            "100/100 [==============================] - 24s 237ms/step - loss: 0.3319 - acc: 0.3546 - val_loss: 0.3452 - val_acc: 0.3539\n",
            "Epoch 32/50\n",
            "100/100 [==============================] - 24s 237ms/step - loss: 0.3322 - acc: 0.3546 - val_loss: 0.3415 - val_acc: 0.3539\n",
            "Epoch 33/50\n",
            "100/100 [==============================] - 24s 237ms/step - loss: 0.3321 - acc: 0.3546 - val_loss: 0.3431 - val_acc: 0.3539\n",
            "Epoch 34/50\n",
            "100/100 [==============================] - 24s 236ms/step - loss: 0.3320 - acc: 0.3546 - val_loss: 0.3419 - val_acc: 0.3539\n",
            "Epoch 35/50\n",
            "100/100 [==============================] - 24s 238ms/step - loss: 0.3320 - acc: 0.3546 - val_loss: 0.3433 - val_acc: 0.3539\n",
            "Epoch 36/50\n",
            "100/100 [==============================] - 24s 236ms/step - loss: 0.3323 - acc: 0.3546 - val_loss: 0.3437 - val_acc: 0.3539\n",
            "Epoch 37/50\n",
            "100/100 [==============================] - 24s 237ms/step - loss: 0.3317 - acc: 0.3546 - val_loss: 0.3419 - val_acc: 0.3539\n",
            "Epoch 38/50\n",
            "100/100 [==============================] - 24s 237ms/step - loss: 0.3319 - acc: 0.3546 - val_loss: 0.3415 - val_acc: 0.3539\n",
            "Epoch 39/50\n",
            "100/100 [==============================] - 24s 236ms/step - loss: 0.3320 - acc: 0.3546 - val_loss: 0.3423 - val_acc: 0.3539\n",
            "Epoch 40/50\n",
            "100/100 [==============================] - 24s 236ms/step - loss: 0.3319 - acc: 0.3546 - val_loss: 0.3428 - val_acc: 0.3539\n",
            "Epoch 41/50\n",
            "100/100 [==============================] - 24s 236ms/step - loss: 0.3321 - acc: 0.3546 - val_loss: 0.3417 - val_acc: 0.3539\n",
            "Epoch 42/50\n",
            "100/100 [==============================] - 24s 236ms/step - loss: 0.3320 - acc: 0.3546 - val_loss: 0.3432 - val_acc: 0.3539\n",
            "Epoch 43/50\n",
            "100/100 [==============================] - 24s 237ms/step - loss: 0.3319 - acc: 0.3546 - val_loss: 0.3417 - val_acc: 0.3539\n",
            "Epoch 44/50\n",
            "100/100 [==============================] - 24s 236ms/step - loss: 0.3321 - acc: 0.3546 - val_loss: 0.3434 - val_acc: 0.3539\n",
            "Epoch 45/50\n",
            "100/100 [==============================] - 24s 236ms/step - loss: 0.3320 - acc: 0.3546 - val_loss: 0.3442 - val_acc: 0.3539\n",
            "Epoch 46/50\n",
            "100/100 [==============================] - 24s 235ms/step - loss: 0.3317 - acc: 0.3546 - val_loss: 0.3445 - val_acc: 0.3539\n",
            "Epoch 47/50\n",
            "100/100 [==============================] - 24s 235ms/step - loss: 0.3320 - acc: 0.3546 - val_loss: 0.3418 - val_acc: 0.3539\n",
            "Epoch 48/50\n",
            "100/100 [==============================] - 24s 237ms/step - loss: 0.3317 - acc: 0.3546 - val_loss: 0.3436 - val_acc: 0.3539\n",
            "Epoch 49/50\n",
            "100/100 [==============================] - 24s 236ms/step - loss: 0.3319 - acc: 0.3546 - val_loss: 0.3445 - val_acc: 0.3539\n",
            "Epoch 50/50\n",
            "100/100 [==============================] - 24s 236ms/step - loss: 0.3321 - acc: 0.3546 - val_loss: 0.3446 - val_acc: 0.3539\n"
          ],
          "name": "stdout"
        },
        {
          "output_type": "execute_result",
          "data": {
            "text/plain": [
              "<keras.callbacks.History at 0x7efbe1aea518>"
            ]
          },
          "metadata": {
            "tags": []
          },
          "execution_count": 14
        }
      ]
    }
  ]
}