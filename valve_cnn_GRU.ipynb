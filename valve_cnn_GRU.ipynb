{
  "nbformat": 4,
  "nbformat_minor": 0,
  "metadata": {
    "colab": {
      "name": "valve_cnn_GRU.ipynb",
      "provenance": [],
      "collapsed_sections": []
    },
    "kernelspec": {
      "name": "python3",
      "display_name": "Python 3"
    }
  },
  "cells": [
    {
      "cell_type": "code",
      "metadata": {
        "id": "ymvafjpjzwbr",
        "colab_type": "code",
        "outputId": "66e4d4e2-b81d-498f-fdc0-9cf8dc15efa7",
        "colab": {
          "base_uri": "https://localhost:8080/",
          "height": 35
        }
      },
      "source": [
        "from google.colab import auth\n",
        "auth.authenticate_user()\n",
        "\n",
        "\n",
        "from google.colab import drive\n",
        "drive.mount('/content/gdrive')"
      ],
      "execution_count": 0,
      "outputs": [
        {
          "output_type": "stream",
          "text": [
            "Drive already mounted at /content/gdrive; to attempt to forcibly remount, call drive.mount(\"/content/gdrive\", force_remount=True).\n"
          ],
          "name": "stdout"
        }
      ]
    },
    {
      "cell_type": "code",
      "metadata": {
        "id": "uDBtfphrzwWm",
        "colab_type": "code",
        "colab": {}
      },
      "source": [
        "import numpy as np\n",
        "import tensorflow as tf\n",
        "import matplotlib.pyplot as plt\n",
        "from keras.preprocessing import sequence\n",
        "from keras.models import Sequential\n",
        "from keras.layers import Dense,Dropout,Activation,Embedding\n",
        "from keras.layers import LSTM,GRU\n",
        "from keras.layers import Conv1D,MaxPooling1D,Conv2D,MaxPooling2D,GlobalMaxPooling2D,Bidirectional,Reshape,Dropout\n",
        "from keras.layers import Flatten\n",
        "from keras.layers import TimeDistributed\n",
        "from keras.layers import RepeatVector\n",
        "from keras.callbacks import EarlyStopping\n",
        "from keras.callbacks import ModelCheckpoint\n",
        "from keras.optimizers import Adam"
      ],
      "execution_count": 0,
      "outputs": []
    },
    {
      "cell_type": "code",
      "metadata": {
        "id": "8LUjYVd8z-TZ",
        "colab_type": "code",
        "colab": {}
      },
      "source": [
        "from keras.preprocessing.image import ImageDataGenerator"
      ],
      "execution_count": 0,
      "outputs": []
    },
    {
      "cell_type": "code",
      "metadata": {
        "id": "2GQwH8CF0AYh",
        "colab_type": "code",
        "colab": {}
      },
      "source": [
        "np.random.seed(3)"
      ],
      "execution_count": 0,
      "outputs": []
    },
    {
      "cell_type": "code",
      "metadata": {
        "id": "D9XM5v_T0EBx",
        "colab_type": "code",
        "outputId": "f9f507dd-afc3-41bc-853c-066eed2b37fc",
        "colab": {
          "base_uri": "https://localhost:8080/",
          "height": 53
        }
      },
      "source": [
        "np.random.seed(3)\n",
        "train_datagen = ImageDataGenerator(rescale = 1./255)\n",
        "test_datagen = ImageDataGenerator(rescale = 1./255)\n",
        "train_generator = train_datagen.flow_from_directory('/content/gdrive/My Drive/Colab Notebooks/valve_id_00_+6db/trainingSet',\n",
        "                                                 target_size = (560, 420),\n",
        "                                                 batch_size = 12,                                                \n",
        "                                                 class_mode = 'categorical')\n",
        "test_generator = test_datagen.flow_from_directory('/content/gdrive/My Drive/Colab Notebooks/valve_id_00_+6db/testSet',\n",
        "                                            target_size = (560, 420),\n",
        "                                            batch_size = 8,                                            \n",
        "                                            class_mode = 'categorical')"
      ],
      "execution_count": 0,
      "outputs": [
        {
          "output_type": "stream",
          "text": [
            "Found 120 images belonging to 2 classes.\n",
            "Found 80 images belonging to 2 classes.\n"
          ],
          "name": "stdout"
        }
      ]
    },
    {
      "cell_type": "code",
      "metadata": {
        "id": "zRFZVs3j0F_B",
        "colab_type": "code",
        "outputId": "7c21fc28-558e-4465-dad4-33962406780b",
        "colab": {
          "base_uri": "https://localhost:8080/",
          "height": 593
        }
      },
      "source": [
        "model = Sequential()\n",
        "model.add(Conv2D(28, kernel_size=(2, 2),\n",
        "                 activation='relu',input_shape=(560,420,3)))\n",
        "model.add(MaxPooling2D(pool_size=(2, 2)))\n",
        "model.add(Dropout(0.5))\n",
        "model.add(Conv2D(15, kernel_size=(1,1),\n",
        "                 activation='relu'))\n",
        "model.add(MaxPooling2D(pool_size=(2, 2)))\n",
        "model.add(Conv2D(1, kernel_size=(1,1),\n",
        "                 activation='relu'))\n",
        "model.add(MaxPooling2D(pool_size=(2, 2)))\n",
        "model.add(Reshape((-1,1)))\n",
        "model.add(GRU(200, activation='relu',return_sequences=True))\n",
        "model.add(Flatten())\n",
        "model.add(Dropout(0.5))\n",
        "model.add(Dense(2,activation='softmax' ))\n",
        "model.summary()\n",
        "model.compile(loss='categorical_crossentropy',optimizer=Adam(lr=0.0001),metrics=['accuracy'])"
      ],
      "execution_count": 0,
      "outputs": [
        {
          "output_type": "stream",
          "text": [
            "Model: \"sequential_3\"\n",
            "_________________________________________________________________\n",
            "Layer (type)                 Output Shape              Param #   \n",
            "=================================================================\n",
            "conv2d_7 (Conv2D)            (None, 559, 419, 28)      364       \n",
            "_________________________________________________________________\n",
            "max_pooling2d_7 (MaxPooling2 (None, 279, 209, 28)      0         \n",
            "_________________________________________________________________\n",
            "dropout_5 (Dropout)          (None, 279, 209, 28)      0         \n",
            "_________________________________________________________________\n",
            "conv2d_8 (Conv2D)            (None, 279, 209, 15)      435       \n",
            "_________________________________________________________________\n",
            "max_pooling2d_8 (MaxPooling2 (None, 139, 104, 15)      0         \n",
            "_________________________________________________________________\n",
            "conv2d_9 (Conv2D)            (None, 139, 104, 1)       16        \n",
            "_________________________________________________________________\n",
            "max_pooling2d_9 (MaxPooling2 (None, 69, 52, 1)         0         \n",
            "_________________________________________________________________\n",
            "reshape_3 (Reshape)          (None, 3588, 1)           0         \n",
            "_________________________________________________________________\n",
            "gru_3 (GRU)                  (None, 3588, 200)         121200    \n",
            "_________________________________________________________________\n",
            "flatten_3 (Flatten)          (None, 717600)            0         \n",
            "_________________________________________________________________\n",
            "dropout_6 (Dropout)          (None, 717600)            0         \n",
            "_________________________________________________________________\n",
            "dense_3 (Dense)              (None, 2)                 1435202   \n",
            "=================================================================\n",
            "Total params: 1,557,217\n",
            "Trainable params: 1,557,217\n",
            "Non-trainable params: 0\n",
            "_________________________________________________________________\n"
          ],
          "name": "stdout"
        }
      ]
    },
    {
      "cell_type": "code",
      "metadata": {
        "id": "Fd6o66Sk0P64",
        "colab_type": "code",
        "outputId": "36ddb1a6-d1bb-4b08-8bdc-969541595f22",
        "colab": {
          "base_uri": "https://localhost:8080/",
          "height": 755
        }
      },
      "source": [
        "early_stopping_callback = EarlyStopping(monitor='val_loss',mode='min', patience=5)\n",
        "checkpoint_callback = ModelCheckpoint('best_model.h5', monitor='val_loss', verbose=1, save_best_only=True, mode='min')\n",
        "model.fit_generator(\n",
        "        train_generator,\n",
        "        steps_per_epoch=10,\n",
        "        epochs=10,\n",
        "        validation_data=test_generator,\n",
        "        validation_steps=10,\n",
        "        callbacks=[early_stopping_callback, checkpoint_callback])"
      ],
      "execution_count": 0,
      "outputs": [
        {
          "output_type": "stream",
          "text": [
            "Epoch 1/10\n",
            "10/10 [==============================] - 64s 6s/step - loss: 0.6893 - acc: 0.5750 - val_loss: 0.6544 - val_acc: 0.6750\n",
            "\n",
            "Epoch 00001: val_loss improved from inf to 0.65439, saving model to best_model.h5\n",
            "Epoch 2/10\n",
            "10/10 [==============================] - 62s 6s/step - loss: 0.5941 - acc: 0.7333 - val_loss: 0.6029 - val_acc: 0.8375\n",
            "\n",
            "Epoch 00002: val_loss improved from 0.65439 to 0.60291, saving model to best_model.h5\n",
            "Epoch 3/10\n",
            "10/10 [==============================] - 62s 6s/step - loss: 0.5169 - acc: 0.7417 - val_loss: 0.5474 - val_acc: 0.8875\n",
            "\n",
            "Epoch 00003: val_loss improved from 0.60291 to 0.54737, saving model to best_model.h5\n",
            "Epoch 4/10\n",
            "10/10 [==============================] - 62s 6s/step - loss: 0.4135 - acc: 0.9167 - val_loss: 0.4840 - val_acc: 0.8250\n",
            "\n",
            "Epoch 00004: val_loss improved from 0.54737 to 0.48403, saving model to best_model.h5\n",
            "Epoch 5/10\n",
            "10/10 [==============================] - 62s 6s/step - loss: 0.3574 - acc: 0.9083 - val_loss: 0.4174 - val_acc: 0.8500\n",
            "\n",
            "Epoch 00005: val_loss improved from 0.48403 to 0.41741, saving model to best_model.h5\n",
            "Epoch 6/10\n",
            "10/10 [==============================] - 62s 6s/step - loss: 0.3285 - acc: 0.8917 - val_loss: 0.4312 - val_acc: 0.7375\n",
            "\n",
            "Epoch 00006: val_loss did not improve from 0.41741\n",
            "Epoch 7/10\n",
            "10/10 [==============================] - 62s 6s/step - loss: 0.3087 - acc: 0.8833 - val_loss: 0.3518 - val_acc: 0.8500\n",
            "\n",
            "Epoch 00007: val_loss improved from 0.41741 to 0.35183, saving model to best_model.h5\n",
            "Epoch 8/10\n",
            "10/10 [==============================] - 62s 6s/step - loss: 0.2828 - acc: 0.9417 - val_loss: 0.3265 - val_acc: 0.8625\n",
            "\n",
            "Epoch 00008: val_loss improved from 0.35183 to 0.32654, saving model to best_model.h5\n",
            "Epoch 9/10\n",
            "10/10 [==============================] - 62s 6s/step - loss: 0.2804 - acc: 0.9333 - val_loss: 0.3374 - val_acc: 0.8250\n",
            "\n",
            "Epoch 00009: val_loss did not improve from 0.32654\n",
            "Epoch 10/10\n",
            "10/10 [==============================] - 62s 6s/step - loss: 0.2534 - acc: 0.9417 - val_loss: 0.3393 - val_acc: 0.8125\n",
            "\n",
            "Epoch 00010: val_loss did not improve from 0.32654\n"
          ],
          "name": "stdout"
        },
        {
          "output_type": "execute_result",
          "data": {
            "text/plain": [
              "<keras.callbacks.History at 0x7f5436141cc0>"
            ]
          },
          "metadata": {
            "tags": []
          },
          "execution_count": 19
        }
      ]
    },
    {
      "cell_type": "code",
      "metadata": {
        "id": "g7xhCCMYXv6n",
        "colab_type": "code",
        "outputId": "d1ab925f-da35-4136-e8ed-569fc7376b58",
        "colab": {
          "base_uri": "https://localhost:8080/",
          "height": 53
        }
      },
      "source": [
        "print(\"--TrianSet_Evaluate--\")\n",
        "scores=model.evaluate_generator(train_generator,steps=24)\n",
        "print(\"%s: %.2f%%\" %(model.metrics_names[1], scores[1]*100))"
      ],
      "execution_count": 0,
      "outputs": [
        {
          "output_type": "stream",
          "text": [
            "--TrianSet_Evaluate--\n",
            "acc: 93.33%\n"
          ],
          "name": "stdout"
        }
      ]
    },
    {
      "cell_type": "code",
      "metadata": {
        "id": "YEqZAweXkO-3",
        "colab_type": "code",
        "outputId": "2d0212af-297c-4eae-958e-00075523745a",
        "colab": {
          "base_uri": "https://localhost:8080/",
          "height": 53
        }
      },
      "source": [
        "print(\"--TestSet_Evaluate--\")\n",
        "\n",
        "scores=model.evaluate_generator(test_generator,steps=16)\n",
        "print(\"%s: %.2f%%\" %(model.metrics_names[1], scores[1]*100))"
      ],
      "execution_count": 0,
      "outputs": [
        {
          "output_type": "stream",
          "text": [
            "--TestSet_Evaluate--\n",
            "acc: 87.50%\n"
          ],
          "name": "stdout"
        }
      ]
    },
    {
      "cell_type": "code",
      "metadata": {
        "id": "j3l0s757kRaR",
        "colab_type": "code",
        "colab": {}
      },
      "source": [
        ""
      ],
      "execution_count": 0,
      "outputs": []
    }
  ]
}